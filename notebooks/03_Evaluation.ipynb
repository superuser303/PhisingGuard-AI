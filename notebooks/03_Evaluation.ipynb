{
 "cells": [
  {
   "cell_type": "code",
   "execution_count": null,
   "id": "169d274e",
   "metadata": {
    "vscode": {
     "languageId": "plaintext"
    }
   },
   "outputs": [],
   "source": [
    "# 03_evaluation.ipynb\n",
    "\n",
    "# Imports\n",
    "from transformers import BertTokenizer, BertForSequenceClassification, pipeline\n",
    "import pandas as pd\n",
    "from sklearn.metrics import classification_report, confusion_matrix, ConfusionMatrixDisplay\n",
    "import matplotlib.pyplot as plt\n",
    "import seaborn as sns\n",
    "\n",
    "# Load model and tokenizer\n",
    "model = BertForSequenceClassification.from_pretrained('../models/bert_model')\n",
    "tokenizer = BertTokenizer.from_pretrained('../models/bert_model')\n",
    "\n",
    "# Load test data\n",
    "test_df = pd.read_csv('../data/processed/test.csv')\n",
    "\n",
    "# Predict\n",
    "classifier = pipeline('text-classification', model=model, tokenizer=tokenizer, device=0)  # GPU\n",
    "preds = classifier(test_df['Email Text'].tolist())\n",
    "y_pred = [0 if p['label'] == 'LABEL_0' else 1 for p in preds]\n",
    "y_true = test_df['label']\n",
    "\n",
    "# Metrics\n",
    "print(classification_report(y_true, y_pred))\n",
    "\n",
    "# Confusion matrix\n",
    "cm = confusion_matrix(y_true, y_pred)\n",
    "disp = ConfusionMatrixDisplay(confusion_matrix=cm, display_labels=['Safe', 'Phishing'])\n",
    "disp.plot(cmap='Blues')\n",
    "plt.savefig('../results/confusion_matrix.png')\n",
    "plt.show()\n",
    "\n",
    "# Save metrics\n",
    "with open('../results/metrics.txt', 'a') as f:\n",
    "    f.write(classification_report(y_true, y_pred))"
   ]
  }
 ],
 "metadata": {
  "language_info": {
   "name": "python"
  }
 },
 "nbformat": 4,
 "nbformat_minor": 5
}
