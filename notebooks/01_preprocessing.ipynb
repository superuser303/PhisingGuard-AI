{
 "cells": [
# 01_preprocessing.ipynb

# Imports
from datasets import load_dataset
import pandas as pd
from sklearn.model_selection import train_test_split
import nltk
nltk.download('punkt')
from nltk.tokenize import word_tokenize

# Load dataset
dataset = load_dataset("zefang-liu/phishing-email-dataset")
df = dataset['train'].to_pandas()

# Preprocess labels
df['label'] = df['Email Type'].map({'Safe Email': 0, 'Phishing Email': 1})
df = df[['Email Text', 'label']].dropna()

# Basic text cleaning
def clean_text(text):
    tokens = word_tokenize(text.lower())
    return ' '.join(tokens)

df['Email Text'] = df['Email Text'].apply(clean_text)

# Split and save
train_df, test_df = train_test_split(df, test_size=0.2, random_state=42, stratify=df['label'])
train_df.to_csv('../data/processed/train.csv', index=False)
test_df.to_csv('../data/processed/test.csv', index=False)

print("Preprocessing done. Train shape:", train_df.shape, "Test shape:", test_df.shape)
  {
   "cell_type": "code",
   "execution_count": null,
   "id": "39b7d2b8",
   "metadata": {},
   "outputs": [],
   "source": []
  }
 ],
 "metadata": {
  "language_info": {
   "name": "python"
  }
 },
 "nbformat": 4,
 "nbformat_minor": 5
}
