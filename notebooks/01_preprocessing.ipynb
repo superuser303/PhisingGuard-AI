{
 "cells": [
  {
   "cell_type": "code",
   "execution_count": null,
   "id": "7444d6cf",
   "metadata": {
    "vscode": {
     "languageId": "plaintext"
    }
   },
   "outputs": [],
   "source": [
    "# 01_preprocessing.ipynb\n",
    "\n",
    "# Imports\n",
    "from datasets import load_dataset\n",
    "import pandas as pd\n",
    "from sklearn.model_selection import train_test_split\n",
    "import nltk\n",
    "nltk.download('punkt')\n",
    "from nltk.tokenize import word_tokenize\n",
    "\n",
    "# Load dataset\n",
    "dataset = load_dataset(\"zefang-liu/phishing-email-dataset\")\n",
    "df = dataset['train'].to_pandas()\n",
    "\n",
    "# Preprocess labels\n",
    "df['label'] = df['Email Type'].map({'Safe Email': 0, 'Phishing Email': 1})\n",
    "df = df[['Email Text', 'label']].dropna()\n",
    "\n",
    "# Basic text cleaning\n",
    "def clean_text(text):\n",
    "    tokens = word_tokenize(text.lower())\n",
    "    return ' '.join(tokens)\n",
    "\n",
    "df['Email Text'] = df['Email Text'].apply(clean_text)\n",
    "\n",
    "# Split and save\n",
    "train_df, test_df = train_test_split(df, test_size=0.2, random_state=42, stratify=df['label'])\n",
    "train_df.to_csv('../data/processed/train.csv', index=False)\n",
    "test_df.to_csv('../data/processed/test.csv', index=False)\n",
    "\n",
    "print(\"Preprocessing done. Train shape:\", train_df.shape, \"Test shape:\", test_df.shape)"
   ]
  }
 ],
 "metadata": {
  "language_info": {
   "name": "python"
  }
 },
 "nbformat": 4,
 "nbformat_minor": 5
}
