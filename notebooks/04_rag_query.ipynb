# 04_rag_query.ipynb

# Imports
from langchain.vectorstores import FAISS
from langchain.embeddings import HuggingFaceEmbeddings
from transformers import pipeline
import os

# Create knowledge base (add phishing_docs.txt to data/knowledge_base/)
with open('../data/knowledge_base/phishing_docs.txt', 'w') as f:
    f.write("Phishing signs: suspicious URLs, urgent language, unknown sender.")

# Embeddings
embeddings = HuggingFaceEmbeddings(model_name='sentence-transformers/all-MiniLM-L6-v2')
texts = ["Phishing signs: suspicious URLs, urgent language, unknown sender."]  # Expand as needed
vector_store = FAISS.from_texts(texts, embeddings)

# QA pipeline
qa = pipeline('question-answering', model='distilbert-base-cased-distilled-squad')

# Query function
def answer_query(query):
    context = vector_store.similarity_search(query)[0].page_content
    return qa(question=query, context=context)['answer']

# Example
print(answer_query("What are phishing signs?"))
