{
 "cells": [
  {
   "cell_type": "code",
   "execution_count": null,
   "id": "3361c72c",
   "metadata": {
    "vscode": {
     "languageId": "plaintext"
    }
   },
   "outputs": [],
   "source": [
    "# 04_rag_query.ipynb\n",
    "\n",
    "# Imports\n",
    "from langchain.vectorstores import FAISS\n",
    "from langchain.embeddings import HuggingFaceEmbeddings\n",
    "from transformers import pipeline\n",
    "import os\n",
    "\n",
    "# Create knowledge base (add phishing_docs.txt to data/knowledge_base/)\n",
    "with open('../data/knowledge_base/phishing_docs.txt', 'w') as f:\n",
    "    f.write(\"Phishing signs: suspicious URLs, urgent language, unknown sender.\")\n",
    "\n",
    "# Embeddings\n",
    "embeddings = HuggingFaceEmbeddings(model_name='sentence-transformers/all-MiniLM-L6-v2')\n",
    "texts = [\"Phishing signs: suspicious URLs, urgent language, unknown sender.\"]  # Expand as needed\n",
    "vector_store = FAISS.from_texts(texts, embeddings)\n",
    "\n",
    "# QA pipeline\n",
    "qa = pipeline('question-answering', model='distilbert-base-cased-distilled-squad')\n",
    "\n",
    "# Query function\n",
    "def answer_query(query):\n",
    "    context = vector_store.similarity_search(query)[0].page_content\n",
    "    return qa(question=query, context=context)['answer']\n",
    "\n",
    "# Example\n",
    "print(answer_query(\"What are phishing signs?\"))"
   ]
  }
 ],
 "metadata": {
  "language_info": {
   "name": "python"
  }
 },
 "nbformat": 4,
 "nbformat_minor": 5
}
